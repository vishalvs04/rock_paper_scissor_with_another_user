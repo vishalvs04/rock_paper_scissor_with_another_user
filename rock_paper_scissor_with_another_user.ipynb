{
 "cells": [
  {
   "cell_type": "markdown",
   "id": "b26aded8",
   "metadata": {},
   "source": [
    "# ROCK PAPER SCISSOR With Another Player:"
   ]
  },
  {
   "cell_type": "code",
   "execution_count": 1,
   "id": "f03d74e4",
   "metadata": {},
   "outputs": [],
   "source": [
    "import random\n",
    "def play_rock_paper_scissor():\n",
    "    runner_code=True\n",
    "    user1_score=0\n",
    "    user2_score=0\n",
    "    while runner_code:\n",
    "        choices=['rock','paper','scissor']\n",
    "        user1_choice=input(\"USER 1 Choose Rock, Paper or Scissor, OR q for quitting: \")\n",
    "        user2_choice=input('USER 2 Choose Rock, Paper or Scissor, OR q for quitting: ')\n",
    "\n",
    "        if user1_choice==user2_choice and (user1_choice!='q' and user2_choice!='q'):\n",
    "            print('Its A TIE!!!!')\n",
    "        elif user1_choice=='rock' and user2_choice=='paper':\n",
    "            print('Paper covers Rock, User2 Wins')\n",
    "            user2_score+=1\n",
    "            print('User 1 Score=',user1_score)\n",
    "            print(\"User 2 Score=\",user2_score)\n",
    "        elif user1_choice=='scissor' and user2_choice=='rock':\n",
    "            print('Rock Breaks Scissor, User2 Wins')\n",
    "            user2_score+=1\n",
    "            print('User 1 Score=',user1_score)\n",
    "            print(\"User 2 Score=\",user2_score)\n",
    "        elif user1_choice=='paper' and user2_choice=='scissor':\n",
    "            print('Scissor Cuts Paper, User2 Wins')\n",
    "            user2_score+=1\n",
    "            print('User 1 Score=',user1_score)\n",
    "            print(\"User 2 Score=\",user2_score)\n",
    "        elif user1_choice=='paper' and user2_choice=='rock':\n",
    "            print(\"Paper Covers Rock, User1 Wins\")\n",
    "            user1_score+=1\n",
    "            print('User 1 Score=',user1_score)\n",
    "            print(\"User 2 Score=\",user2_score)\n",
    "        elif user1_choice=='rock' and user2_choice=='scissor':\n",
    "            print('Rock breaks Scissor, User1 Wins')\n",
    "            user1_score+=1\n",
    "            print('User 1 Score=',user1_score)\n",
    "            print(\"User 2 Score=\",user2_score)\n",
    "        elif user1_choice=='scissor' and user2_choice=='paper':\n",
    "            print('Scissor cuts paper, User1 Wins')\n",
    "            user1_score+=1\n",
    "            print(\"User 1 Score=\",user1_score)\n",
    "            print(\"User 2 Score=\",user2_score)\n",
    "        elif user1_choice=='q' or user2_choice=='q':\n",
    "            if user1_score>0 or user2_score>0:\n",
    "                print(\"User 1 Score=\",user1_score)\n",
    "                print(\"User 2 Score=\",user2_score)\n",
    "            print('Quit')\n",
    "            runner_code=False"
   ]
  }
 ],
 "metadata": {
  "kernelspec": {
   "display_name": "Python 3 (ipykernel)",
   "language": "python",
   "name": "python3"
  },
  "language_info": {
   "codemirror_mode": {
    "name": "ipython",
    "version": 3
   },
   "file_extension": ".py",
   "mimetype": "text/x-python",
   "name": "python",
   "nbconvert_exporter": "python",
   "pygments_lexer": "ipython3",
   "version": "3.9.7"
  }
 },
 "nbformat": 4,
 "nbformat_minor": 5
}
